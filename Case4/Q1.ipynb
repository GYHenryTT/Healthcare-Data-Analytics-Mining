{
 "cells": [
  {
   "cell_type": "code",
   "execution_count": 63,
   "metadata": {},
   "outputs": [],
   "source": [
    "import pandas as pd\n",
    "import numpy as np\n",
    "import scipy.stats as stats"
   ]
  },
  {
   "cell_type": "markdown",
   "metadata": {},
   "source": [
    "## Data Preparation"
   ]
  },
  {
   "cell_type": "code",
   "execution_count": 2,
   "metadata": {},
   "outputs": [
    {
     "name": "stderr",
     "output_type": "stream",
     "text": [
      "C:\\Anaconda\\lib\\site-packages\\IPython\\core\\interactiveshell.py:3057: DtypeWarning: Columns (2,5,54,55,56,57) have mixed types. Specify dtype option on import or set low_memory=False.\n",
      "  interactivity=interactivity, compiler=compiler, result=result)\n"
     ]
    }
   ],
   "source": [
    "outpatient = pd.read_csv('./VTOUTP16.TXT')"
   ]
  },
  {
   "cell_type": "code",
   "execution_count": 5,
   "metadata": {},
   "outputs": [],
   "source": [
    "ra = pd.read_csv('RA.csv')\n",
    "other_ra = pd.read_csv('Other_RA.csv')"
   ]
  },
  {
   "cell_type": "markdown",
   "metadata": {},
   "source": [
    "## Step 1: Identify the RA cohort using the outpatient file. "
   ]
  },
  {
   "cell_type": "code",
   "execution_count": 20,
   "metadata": {
    "scrolled": true
   },
   "outputs": [],
   "source": [
    "ra_outpatient = pd.DataFrame()\n",
    "for i in range(20):\n",
    "    temp = outpatient.merge(ra['ICD-10 Codes'], left_on= f'DX{i+1}', right_on='ICD-10 Codes')\n",
    "    ra_outpatient = pd.concat([ra_outpatient, temp])"
   ]
  },
  {
   "cell_type": "code",
   "execution_count": 21,
   "metadata": {
    "scrolled": true
   },
   "outputs": [],
   "source": [
    "other_ra_outpatient = pd.DataFrame()\n",
    "for i in range(20):\n",
    "    temp = outpatient.merge(other_ra['ICD-10 Codes'], left_on= f'DX{i+1}', right_on='ICD-10 Codes')\n",
    "    other_ra_outpatient = pd.concat([other_ra_outpatient, temp])"
   ]
  },
  {
   "cell_type": "code",
   "execution_count": 28,
   "metadata": {
    "scrolled": true
   },
   "outputs": [
    {
     "name": "stdout",
     "output_type": "stream",
     "text": [
      "(981, 71)\n"
     ]
    },
    {
     "data": {
      "text/plain": [
       "(976, 71)"
      ]
     },
     "execution_count": 28,
     "metadata": {},
     "output_type": "execute_result"
    }
   ],
   "source": [
    "print(ra_outpatient.shape)\n",
    "ra_outpatient.drop_duplicates(subset='Uniq').shape\n",
    "# 981 Diagnoses  976 patients"
   ]
  },
  {
   "cell_type": "code",
   "execution_count": 29,
   "metadata": {
    "scrolled": true
   },
   "outputs": [
    {
     "name": "stdout",
     "output_type": "stream",
     "text": [
      "(31, 71)\n"
     ]
    },
    {
     "data": {
      "text/plain": [
       "(30, 71)"
      ]
     },
     "execution_count": 29,
     "metadata": {},
     "output_type": "execute_result"
    }
   ],
   "source": [
    "print(other_ra_outpatient.shape)\n",
    "other_ra_outpatient.drop_duplicates(subset='Uniq').shape\n",
    "# 31 diagnoses 30 patients"
   ]
  },
  {
   "cell_type": "markdown",
   "metadata": {},
   "source": [
    "## Step 2: Identify the most common types of the RA"
   ]
  },
  {
   "cell_type": "code",
   "execution_count": 39,
   "metadata": {
    "scrolled": true
   },
   "outputs": [
    {
     "data": {
      "text/plain": [
       "ICD-10 Codes\n",
       "M069      909\n",
       "M0579      17\n",
       "M059        8\n",
       "M0600       6\n",
       "M0609       4\n",
       "M06871      4\n",
       "M06072      3\n",
       "M0570       2\n",
       "M06342      2\n",
       "M06341      2\n",
       "M06322      2\n",
       "M0689       2\n",
       "M06071      2\n",
       "M0680       2\n",
       "M06851      2\n",
       "M06861      2\n",
       "M06872      1\n",
       "M05741      1\n",
       "M05742      1\n",
       "M05761      1\n",
       "M05762      1\n",
       "M06832      1\n",
       "M05812      1\n",
       "M06031      1\n",
       "M06051      1\n",
       "M06842      1\n",
       "M06331      1\n",
       "M06041      1\n",
       "Name: Uniq, dtype: int64"
      ]
     },
     "execution_count": 39,
     "metadata": {},
     "output_type": "execute_result"
    }
   ],
   "source": [
    "ra_outpatient_freq = ra_outpatient.groupby('ICD-10 Codes')['Uniq'].count()\n",
    "ra_outpatient_freq.sort_values(ascending=False)\n",
    "# Top 3 M069. M0579, M059"
   ]
  },
  {
   "cell_type": "code",
   "execution_count": 38,
   "metadata": {},
   "outputs": [
    {
     "data": {
      "text/plain": [
       "ICD-10 Codes\n",
       "M0510     21\n",
       "M05671     2\n",
       "M0519      2\n",
       "M061       1\n",
       "M05672     1\n",
       "M0560      1\n",
       "M05142     1\n",
       "M05141     1\n",
       "M0500      1\n",
       "Name: Uniq, dtype: int64"
      ]
     },
     "execution_count": 38,
     "metadata": {},
     "output_type": "execute_result"
    }
   ],
   "source": [
    "other_ra_outpatient_freq = other_ra_outpatient.groupby('ICD-10 Codes')['Uniq'].count()\n",
    "\n",
    "other_ra_outpatient_freq.sort_values(ascending=False)\n",
    "\n",
    "# Top 3 M510, M05671, M0519"
   ]
  },
  {
   "cell_type": "markdown",
   "metadata": {},
   "source": [
    "## Step 3: Gender differences in RA"
   ]
  },
  {
   "cell_type": "code",
   "execution_count": 44,
   "metadata": {},
   "outputs": [],
   "source": [
    "ra_outpatient['is_RA'] = 1\n",
    "outpatient_new = outpatient.merge(ra_outpatient[['Uniq', 'is_RA']].drop_duplicates(subset='Uniq'), how='left').fillna(0)"
   ]
  },
  {
   "cell_type": "code",
   "execution_count": 45,
   "metadata": {},
   "outputs": [],
   "source": [
    "other_ra_outpatient['is_other_RA'] = 1\n",
    "outpatient_new = outpatient_new.merge(other_ra_outpatient[['Uniq', 'is_other_RA']].drop_duplicates(subset='Uniq'), how='left').fillna(0)"
   ]
  },
  {
   "cell_type": "code",
   "execution_count": 53,
   "metadata": {},
   "outputs": [],
   "source": [
    "outpatient_new.sex.replace(' ', np.nan, inplace=True)"
   ]
  },
  {
   "cell_type": "code",
   "execution_count": 56,
   "metadata": {},
   "outputs": [],
   "source": [
    "outpatient_new.dropna(subset=['sex', 'is_RA', 'is_other_RA'], inplace=True)"
   ]
  },
  {
   "cell_type": "code",
   "execution_count": 61,
   "metadata": {},
   "outputs": [],
   "source": [
    "outpatient_new.sex = outpatient_new.sex.astype(int)\n",
    "outpatient_new.is_RA = outpatient_new.is_RA.astype(int)\n",
    "outpatient_new.is_other_RA = outpatient_new.is_other_RA.astype(int)"
   ]
  },
  {
   "cell_type": "markdown",
   "metadata": {},
   "source": [
    "### Gender bias in RA"
   ]
  },
  {
   "cell_type": "code",
   "execution_count": 64,
   "metadata": {},
   "outputs": [
    {
     "name": "stdout",
     "output_type": "stream",
     "text": [
      "Odds ratio: 2.3975543884127677\n",
      "p-value:  1.4457910557520762e-36\n"
     ]
    }
   ],
   "source": [
    "ra_xtab = outpatient_new.groupby(['sex', 'is_RA'])['Uniq'].count().unstack()\n",
    "oddsratio, pvalue = stats.fisher_exact(ra_xtab)\n",
    "print('Odds ratio:', oddsratio)\n",
    "print('p-value: ', pvalue)"
   ]
  },
  {
   "cell_type": "code",
   "execution_count": 65,
   "metadata": {},
   "outputs": [
    {
     "data": {
      "text/html": [
       "<div>\n",
       "<style scoped>\n",
       "    .dataframe tbody tr th:only-of-type {\n",
       "        vertical-align: middle;\n",
       "    }\n",
       "\n",
       "    .dataframe tbody tr th {\n",
       "        vertical-align: top;\n",
       "    }\n",
       "\n",
       "    .dataframe thead th {\n",
       "        text-align: right;\n",
       "    }\n",
       "</style>\n",
       "<table border=\"1\" class=\"dataframe\">\n",
       "  <thead>\n",
       "    <tr style=\"text-align: right;\">\n",
       "      <th>is_RA</th>\n",
       "      <th>0</th>\n",
       "      <th>1</th>\n",
       "    </tr>\n",
       "    <tr>\n",
       "      <th>sex</th>\n",
       "      <th></th>\n",
       "      <th></th>\n",
       "    </tr>\n",
       "  </thead>\n",
       "  <tbody>\n",
       "    <tr>\n",
       "      <th>1</th>\n",
       "      <td>168150</td>\n",
       "      <td>252</td>\n",
       "    </tr>\n",
       "    <tr>\n",
       "      <th>2</th>\n",
       "      <td>201496</td>\n",
       "      <td>724</td>\n",
       "    </tr>\n",
       "  </tbody>\n",
       "</table>\n",
       "</div>"
      ],
      "text/plain": [
       "is_RA       0    1\n",
       "sex               \n",
       "1      168150  252\n",
       "2      201496  724"
      ]
     },
     "execution_count": 65,
     "metadata": {},
     "output_type": "execute_result"
    }
   ],
   "source": [
    "ra_xtab"
   ]
  },
  {
   "cell_type": "markdown",
   "metadata": {},
   "source": [
    "### Gender bias in other_RA"
   ]
  },
  {
   "cell_type": "code",
   "execution_count": 67,
   "metadata": {},
   "outputs": [
    {
     "name": "stdout",
     "output_type": "stream",
     "text": [
      "Odds ratio: 0.9517290883040325\n",
      "p-value:  1.0\n"
     ]
    }
   ],
   "source": [
    "other_ra_xtab = outpatient_new.groupby(['sex', 'is_other_RA'])['Uniq'].count().unstack()\n",
    "oddsratio, pvalue = stats.fisher_exact(other_ra_xtab)\n",
    "print('Odds ratio:', oddsratio)\n",
    "print('p-value: ', pvalue)"
   ]
  },
  {
   "cell_type": "code",
   "execution_count": 68,
   "metadata": {},
   "outputs": [
    {
     "data": {
      "text/html": [
       "<div>\n",
       "<style scoped>\n",
       "    .dataframe tbody tr th:only-of-type {\n",
       "        vertical-align: middle;\n",
       "    }\n",
       "\n",
       "    .dataframe tbody tr th {\n",
       "        vertical-align: top;\n",
       "    }\n",
       "\n",
       "    .dataframe thead th {\n",
       "        text-align: right;\n",
       "    }\n",
       "</style>\n",
       "<table border=\"1\" class=\"dataframe\">\n",
       "  <thead>\n",
       "    <tr style=\"text-align: right;\">\n",
       "      <th>is_other_RA</th>\n",
       "      <th>0</th>\n",
       "      <th>1</th>\n",
       "    </tr>\n",
       "    <tr>\n",
       "      <th>sex</th>\n",
       "      <th></th>\n",
       "      <th></th>\n",
       "    </tr>\n",
       "  </thead>\n",
       "  <tbody>\n",
       "    <tr>\n",
       "      <th>1</th>\n",
       "      <td>168388</td>\n",
       "      <td>14</td>\n",
       "    </tr>\n",
       "    <tr>\n",
       "      <th>2</th>\n",
       "      <td>202204</td>\n",
       "      <td>16</td>\n",
       "    </tr>\n",
       "  </tbody>\n",
       "</table>\n",
       "</div>"
      ],
      "text/plain": [
       "is_other_RA       0   1\n",
       "sex                    \n",
       "1            168388  14\n",
       "2            202204  16"
      ]
     },
     "execution_count": 68,
     "metadata": {},
     "output_type": "execute_result"
    }
   ],
   "source": [
    "other_ra_xtab"
   ]
  },
  {
   "cell_type": "markdown",
   "metadata": {},
   "source": [
    "## Step 4: Calculate the inter-quartile range of the costs"
   ]
  },
  {
   "cell_type": "code",
   "execution_count": 71,
   "metadata": {},
   "outputs": [
    {
     "data": {
      "text/plain": [
       "count    370633.000000\n",
       "mean       3087.405855\n",
       "std        4915.324061\n",
       "min           0.000000\n",
       "25%         682.480000\n",
       "50%        1521.620000\n",
       "75%        3440.180000\n",
       "max      227311.780000\n",
       "Name: CHRGS, dtype: float64"
      ]
     },
     "execution_count": 71,
     "metadata": {},
     "output_type": "execute_result"
    }
   ],
   "source": [
    "outpatient.CHRGS.describe()"
   ]
  },
  {
   "cell_type": "code",
   "execution_count": 72,
   "metadata": {},
   "outputs": [
    {
     "data": {
      "text/plain": [
       "2757.7"
      ]
     },
     "execution_count": 72,
     "metadata": {},
     "output_type": "execute_result"
    }
   ],
   "source": [
    "stats.iqr(outpatient.CHRGS)"
   ]
  },
  {
   "cell_type": "markdown",
   "metadata": {},
   "source": [
    "## Step 5: Study of service utilization"
   ]
  },
  {
   "cell_type": "code",
   "execution_count": 73,
   "metadata": {},
   "outputs": [
    {
     "name": "stderr",
     "output_type": "stream",
     "text": [
      "C:\\Anaconda\\lib\\site-packages\\IPython\\core\\interactiveshell.py:3057: DtypeWarning: Columns (6,7,9) have mixed types. Specify dtype option on import or set low_memory=False.\n",
      "  interactivity=interactivity, compiler=compiler, result=result)\n"
     ]
    }
   ],
   "source": [
    "revcode = pd.read_csv('VTREVCODE16.TXT')"
   ]
  },
  {
   "cell_type": "code",
   "execution_count": 76,
   "metadata": {},
   "outputs": [],
   "source": [
    "revcode_ra = revcode.merge(ra_outpatient.drop_duplicates(subset='Uniq')['Uniq'])"
   ]
  },
  {
   "cell_type": "code",
   "execution_count": 77,
   "metadata": {},
   "outputs": [],
   "source": [
    "revcode_other_ra = revcode.merge(other_ra_outpatient.drop_duplicates(subset='Uniq')['Uniq'])"
   ]
  },
  {
   "cell_type": "code",
   "execution_count": 80,
   "metadata": {
    "scrolled": true
   },
   "outputs": [
    {
     "data": {
      "text/plain": [
       "REVCODE\n",
       "300    3219\n",
       "636    1218\n",
       "250    1161\n",
       "450    1055\n",
       "320     373\n",
       "259     286\n",
       "730     280\n",
       "270     234\n",
       "360     229\n",
       "370     219\n",
       "710     215\n",
       "260     199\n",
       "272     194\n",
       "762     163\n",
       "301     155\n",
       "420     153\n",
       "258     153\n",
       "310     139\n",
       "361     111\n",
       "637     105\n",
       "510      82\n",
       "351      78\n",
       "460      75\n",
       "761      74\n",
       "278      73\n",
       "352      70\n",
       "305      69\n",
       "350      62\n",
       "324      48\n",
       "490      41\n",
       "       ... \n",
       "307      10\n",
       "434       9\n",
       "610       8\n",
       "920       7\n",
       "255       6\n",
       "480       6\n",
       "612       6\n",
       "341       5\n",
       "390       5\n",
       "335       4\n",
       "311       4\n",
       "309       4\n",
       "481       4\n",
       "731       4\n",
       "444       3\n",
       "401       2\n",
       "292       2\n",
       "312       2\n",
       "391       2\n",
       "615       2\n",
       "623       2\n",
       "280       1\n",
       "279       1\n",
       "275       1\n",
       "359       1\n",
       "619       1\n",
       "681       1\n",
       "740       1\n",
       "790       1\n",
       "942       1\n",
       "Name: Uniq, Length: 81, dtype: int64"
      ]
     },
     "execution_count": 80,
     "metadata": {},
     "output_type": "execute_result"
    }
   ],
   "source": [
    "revcode_ra.groupby('REVCODE')['Uniq'].count().sort_values(ascending=False)\n",
    "# TOP 5 Services 300, 636, 250, 450, 320"
   ]
  },
  {
   "cell_type": "code",
   "execution_count": 81,
   "metadata": {
    "scrolled": true
   },
   "outputs": [
    {
     "data": {
      "text/plain": [
       "REVCODE\n",
       "300    53\n",
       "460    47\n",
       "510    18\n",
       "636    12\n",
       "259    10\n",
       "450    10\n",
       "250     7\n",
       "301     6\n",
       "730     5\n",
       "258     4\n",
       "420     4\n",
       "260     4\n",
       "270     4\n",
       "320     4\n",
       "710     3\n",
       "370     3\n",
       "360     3\n",
       "762     3\n",
       "255     2\n",
       "305     2\n",
       "352     2\n",
       "310     2\n",
       "324     2\n",
       "424     2\n",
       "430     2\n",
       "272     1\n",
       "351     1\n",
       "361     1\n",
       "483     1\n",
       "771     1\n",
       "Name: Uniq, dtype: int64"
      ]
     },
     "execution_count": 81,
     "metadata": {},
     "output_type": "execute_result"
    }
   ],
   "source": [
    "revcode_other_ra.groupby('REVCODE')['Uniq'].count().sort_values(ascending=False)\n",
    "# TOP 5 Services 300, 460, 510, 636, 259"
   ]
  },
  {
   "cell_type": "code",
   "execution_count": null,
   "metadata": {},
   "outputs": [],
   "source": []
  }
 ],
 "metadata": {
  "kernelspec": {
   "display_name": "Python 3",
   "language": "python",
   "name": "python3"
  },
  "language_info": {
   "codemirror_mode": {
    "name": "ipython",
    "version": 3
   },
   "file_extension": ".py",
   "mimetype": "text/x-python",
   "name": "python",
   "nbconvert_exporter": "python",
   "pygments_lexer": "ipython3",
   "version": "3.7.3"
  }
 },
 "nbformat": 4,
 "nbformat_minor": 2
}
